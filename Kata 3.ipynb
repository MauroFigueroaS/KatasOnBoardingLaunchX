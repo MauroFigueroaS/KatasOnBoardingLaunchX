{
 "cells": [
  {
   "cell_type": "markdown",
   "metadata": {},
   "source": [
    "# Kata 3"
   ]
  },
  {
   "cell_type": "code",
   "execution_count": 2,
   "metadata": {},
   "outputs": [
    {
     "name": "stdout",
     "output_type": "stream",
     "text": [
      "El asteroide se encuentra cerca de la tierra\n"
     ]
    }
   ],
   "source": [
    "velocidadAsteroide = 49\n",
    "\n",
    "if velocidadAsteroide > 25:\n",
    "    print(\"El asteroide se encuentra cerca de la tierra\")\n",
    "else:\n",
    "    print(\"El asteroide está lejos de la tierra. No hay peligro.\")\n",
    "\n"
   ]
  },
  {
   "cell_type": "code",
   "execution_count": 6,
   "metadata": {},
   "outputs": [
    {
     "name": "stdout",
     "output_type": "stream",
     "text": [
      "Peligro! El asteroide se encuentra cerca de la tierra\n"
     ]
    }
   ],
   "source": [
    "velocidadAsteroide = 26\n",
    "if velocidadAsteroide > 25:\n",
    "    print(\"Peligro! El asteroide se encuentra cerca de la tierra\")\n",
    "elif velocidadAsteroide >= 20:\n",
    "    print(\"Alerta! Buscar rayo de luz emitado por el asteroide.\")\n",
    "else:\n",
    "    print(\"El asteroide está lejos de la tierra. No hay peligro.\")\n"
   ]
  },
  {
   "cell_type": "code",
   "execution_count": 15,
   "metadata": {},
   "outputs": [
    {
     "name": "stdout",
     "output_type": "stream",
     "text": [
      "Alerta! Buscar rayo de luz emitado por el asteroide.\n"
     ]
    }
   ],
   "source": [
    "velocidadAsteroide = 25\n",
    "tamanioAsteroide = 40\n",
    "\n",
    "if tamanioAsteroide < 25:\n",
    "    print(\"No hay peligro. El asteroide se quemará al entrar a la atmósfera.\")\n",
    "elif tamanioAsteroide >= 25 and tamanioAsteroide < 1000:\n",
    "    if velocidadAsteroide > 25:\n",
    "        print(\"Peligro! El asteroide se encuentra cerca de la tierra.\")\n",
    "    elif velocidadAsteroide >= 20:\n",
    "        print(\"Alerta! Buscar rayo de luz emitado por el asteroide.\")\n",
    "    else:\n",
    "        print(\"El asteroide está lejos de la tierra. No hay peligro.\")\n",
    "\n",
    "\n"
   ]
  }
 ],
 "metadata": {
  "interpreter": {
   "hash": "107108efa06640c7c9874fcdb9578798c48e71e76c2d80ee3d8d531708385357"
  },
  "kernelspec": {
   "display_name": "Python 3.9.10 64-bit (windows store)",
   "language": "python",
   "name": "python3"
  },
  "language_info": {
   "codemirror_mode": {
    "name": "ipython",
    "version": 3
   },
   "file_extension": ".py",
   "mimetype": "text/x-python",
   "name": "python",
   "nbconvert_exporter": "python",
   "pygments_lexer": "ipython3",
   "version": "3.9.10"
  },
  "orig_nbformat": 4
 },
 "nbformat": 4,
 "nbformat_minor": 2
}
