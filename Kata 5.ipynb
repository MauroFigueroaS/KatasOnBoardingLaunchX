{
 "cells": [
  {
   "cell_type": "markdown",
   "metadata": {},
   "source": [
    "# Kata 5"
   ]
  },
  {
   "cell_type": "markdown",
   "metadata": {},
   "source": [
    "***\n",
    "1. Ejercicio 1. operadores aritméticos"
   ]
  },
  {
   "cell_type": "code",
   "execution_count": 1,
   "metadata": {},
   "outputs": [
    {
     "name": "stdout",
     "output_type": "stream",
     "text": [
      "La distancia en Km es: 628949.33\n",
      "La distancia en Millas es: 390577.53393\n"
     ]
    }
   ],
   "source": [
    "distanciaTierra = 149597.870 #km\n",
    "distanciaJupiter = 778547.200 #km\n",
    "\n",
    "diferenciaDistancia = distanciaJupiter - distanciaTierra #km\n",
    "diferenciaEnMillas = diferenciaDistancia*0.621\n",
    "\n",
    "\n",
    "print(f'La distancia en Km es: {diferenciaDistancia}')\n",
    "print(f'La distancia en Millas es: {diferenciaEnMillas}')\n",
    "\n"
   ]
  },
  {
   "cell_type": "markdown",
   "metadata": {},
   "source": [
    "***\n",
    "2. convertir cadenas a numeros y valores absolutos"
   ]
  },
  {
   "cell_type": "code",
   "execution_count": 5,
   "metadata": {},
   "outputs": [
    {
     "name": "stdout",
     "output_type": "stream",
     "text": [
      "La diferencia entre planeta Uno y Dos es: 620926576.0649999\n"
     ]
    }
   ],
   "source": [
    "#leer distancias\n",
    "strDistanciaPlanetaUno = input(\"Ingrese la distancia del Planeta Uno\")\n",
    "strDistanciaPlanetaDos = input(\"Ingrese la distancia del Planeta Dos\")\n",
    "\n",
    "distanciaPlanetaUno = int(strDistanciaPlanetaUno)\n",
    "distanciaPlanetaDos = int(strDistanciaPlanetaDos)\n",
    "\n",
    "\n",
    "diferenciaDistancia2 = distanciaPlanetaDos - distanciaPlanetaUno\n",
    "\n",
    "\n",
    "print(f'La diferencia entre planeta Uno y Dos es: {(abs(diferenciaDistancia2))*0.621}')\n"
   ]
  }
 ],
 "metadata": {
  "interpreter": {
   "hash": "cce6e280facf7d8608ec7eff7ad1305a05f1bf13c7712cd2d73d8b35ab1610b1"
  },
  "kernelspec": {
   "display_name": "Python 3.10.2 64-bit",
   "language": "python",
   "name": "python3"
  },
  "language_info": {
   "codemirror_mode": {
    "name": "ipython",
    "version": 3
   },
   "file_extension": ".py",
   "mimetype": "text/x-python",
   "name": "python",
   "nbconvert_exporter": "python",
   "pygments_lexer": "ipython3",
   "version": "3.10.2"
  },
  "orig_nbformat": 4
 },
 "nbformat": 4,
 "nbformat_minor": 2
}
